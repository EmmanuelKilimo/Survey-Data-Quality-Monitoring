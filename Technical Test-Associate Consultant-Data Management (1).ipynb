{
 "cells": [
  {
   "cell_type": "markdown",
   "id": "8259de50",
   "metadata": {},
   "source": [
    "## QUESTION ONE"
   ]
  },
  {
   "cell_type": "markdown",
   "id": "af08cb5e",
   "metadata": {},
   "source": [
    "# ASCERTAIN DATA QUALITY BEFORE SURVEY RESUMES\n",
    " ANALYZING THE SURVEY DATASETS"
   ]
  },
  {
   "cell_type": "code",
   "execution_count": 150,
   "id": "6dd71591-7449-40f9-80a0-0cee109ec872",
   "metadata": {},
   "outputs": [],
   "source": [
    "# Importing the necessary libraries to work with\n",
    "import pandas as pd\n",
    "import numpy as np\n",
    "import seaborn as sns\n",
    "import matplotlib.pyplot as plt"
   ]
  },
  {
   "cell_type": "code",
   "execution_count": 151,
   "id": "4a4fc52a-8b1d-4621-86b9-e97fbe7efe54",
   "metadata": {},
   "outputs": [],
   "source": [
    "# Read the student scores data\n",
    "df_students = pd.read_csv(r\"C:\\Users\\Emmanuel\\OneDrive\\Desktop\\Data Analytics & Data Science Projects\\Survey Data Quality Monitoring\\student_scores.csv\")\n",
    "df_schools = pd.read_csv(r\"C:\\Users\\Emmanuel\\OneDrive\\Desktop\\Data Analytics & Data Science Projects\\Survey Data Quality Monitoring\\school_sample.csv\")\n",
    "# Since backslashes (\\) in python file paths are interpreted as escape characters, we use  a raw string by adding an r before the string o treat the backslashes as literal characters"
   ]
  },
  {
   "cell_type": "code",
   "execution_count": 152,
   "id": "59b0eb81-144a-439d-bcc3-6d61d8e13094",
   "metadata": {},
   "outputs": [
    {
     "data": {
      "text/html": [
       "<div>\n",
       "<style scoped>\n",
       "    .dataframe tbody tr th:only-of-type {\n",
       "        vertical-align: middle;\n",
       "    }\n",
       "\n",
       "    .dataframe tbody tr th {\n",
       "        vertical-align: top;\n",
       "    }\n",
       "\n",
       "    .dataframe thead th {\n",
       "        text-align: right;\n",
       "    }\n",
       "</style>\n",
       "<table border=\"1\" class=\"dataframe\">\n",
       "  <thead>\n",
       "    <tr style=\"text-align: right;\">\n",
       "      <th></th>\n",
       "      <th>survey_date</th>\n",
       "      <th>enumerator_id</th>\n",
       "      <th>district</th>\n",
       "      <th>district_id</th>\n",
       "      <th>school_name</th>\n",
       "      <th>school_id</th>\n",
       "      <th>child_id</th>\n",
       "      <th>student_name</th>\n",
       "      <th>age</th>\n",
       "      <th>gender</th>\n",
       "      <th>student_grade</th>\n",
       "      <th>school_meal_subsidy</th>\n",
       "      <th>school_meal_subsidy_otherspec</th>\n",
       "      <th>subsidy_start_date</th>\n",
       "      <th>eg_math_score</th>\n",
       "      <th>eg_reading_score</th>\n",
       "      <th>survey_duration</th>\n",
       "    </tr>\n",
       "  </thead>\n",
       "  <tbody>\n",
       "    <tr>\n",
       "      <th>0</th>\n",
       "      <td>2024-09-24</td>\n",
       "      <td>ENUMERATOR #0</td>\n",
       "      <td>Ngorongoro</td>\n",
       "      <td>5</td>\n",
       "      <td>Mbuyuni Primary</td>\n",
       "      <td>505</td>\n",
       "      <td>1.0</td>\n",
       "      <td>STUDENT | TQP CU</td>\n",
       "      <td>6</td>\n",
       "      <td>MALE</td>\n",
       "      <td>2</td>\n",
       "      <td>FULLY SUBSIDISED MEALS</td>\n",
       "      <td>NaN</td>\n",
       "      <td>NaN</td>\n",
       "      <td>80</td>\n",
       "      <td>83</td>\n",
       "      <td>37</td>\n",
       "    </tr>\n",
       "    <tr>\n",
       "      <th>1</th>\n",
       "      <td>2024-09-23</td>\n",
       "      <td>ENUMERATOR #0</td>\n",
       "      <td>Ngorongoro</td>\n",
       "      <td>5</td>\n",
       "      <td>Mbuyuni Primary</td>\n",
       "      <td>505</td>\n",
       "      <td>2.0</td>\n",
       "      <td>STUDENT | QAY VT</td>\n",
       "      <td>7</td>\n",
       "      <td>Male</td>\n",
       "      <td>2</td>\n",
       "      <td>Other (Specify)</td>\n",
       "      <td>Partially subsidised</td>\n",
       "      <td>NaN</td>\n",
       "      <td>57</td>\n",
       "      <td>80</td>\n",
       "      <td>42</td>\n",
       "    </tr>\n",
       "    <tr>\n",
       "      <th>2</th>\n",
       "      <td>2024-09-23</td>\n",
       "      <td>ENUMERATOR #0</td>\n",
       "      <td>Ngorongoro</td>\n",
       "      <td>5</td>\n",
       "      <td>Mbuyuni Primary</td>\n",
       "      <td>505</td>\n",
       "      <td>3.0</td>\n",
       "      <td>STUDENT | AKI DG</td>\n",
       "      <td>7</td>\n",
       "      <td>female</td>\n",
       "      <td>2</td>\n",
       "      <td>NO SUBSIDY</td>\n",
       "      <td>NaN</td>\n",
       "      <td>NaN</td>\n",
       "      <td>58</td>\n",
       "      <td>64</td>\n",
       "      <td>45</td>\n",
       "    </tr>\n",
       "    <tr>\n",
       "      <th>3</th>\n",
       "      <td>2024-09-24</td>\n",
       "      <td>ENUMERATOR #0</td>\n",
       "      <td>Monduli</td>\n",
       "      <td>4</td>\n",
       "      <td>Uhuru Primary</td>\n",
       "      <td>4088</td>\n",
       "      <td>4.0</td>\n",
       "      <td>STUDENT | PPE ZC</td>\n",
       "      <td>8</td>\n",
       "      <td>Male</td>\n",
       "      <td>2</td>\n",
       "      <td>Other (Specify)</td>\n",
       "      <td>Partially subsidised</td>\n",
       "      <td>NaN</td>\n",
       "      <td>56</td>\n",
       "      <td>79</td>\n",
       "      <td>53</td>\n",
       "    </tr>\n",
       "    <tr>\n",
       "      <th>4</th>\n",
       "      <td>2024-09-23</td>\n",
       "      <td>ENUMERATOR #0</td>\n",
       "      <td>Ngorongoro</td>\n",
       "      <td>5</td>\n",
       "      <td>Mbuyuni Primary</td>\n",
       "      <td>505</td>\n",
       "      <td>5.0</td>\n",
       "      <td>STUDENT | VLQ EP</td>\n",
       "      <td>7</td>\n",
       "      <td>female</td>\n",
       "      <td>2</td>\n",
       "      <td>NO SUBSIDY</td>\n",
       "      <td>NaN</td>\n",
       "      <td>NaN</td>\n",
       "      <td>54</td>\n",
       "      <td>59</td>\n",
       "      <td>36</td>\n",
       "    </tr>\n",
       "  </tbody>\n",
       "</table>\n",
       "</div>"
      ],
      "text/plain": [
       "  survey_date  enumerator_id    district  district_id      school_name  \\\n",
       "0  2024-09-24  ENUMERATOR #0  Ngorongoro            5  Mbuyuni Primary   \n",
       "1  2024-09-23  ENUMERATOR #0  Ngorongoro            5  Mbuyuni Primary   \n",
       "2  2024-09-23  ENUMERATOR #0  Ngorongoro            5  Mbuyuni Primary   \n",
       "3  2024-09-24  ENUMERATOR #0     Monduli            4    Uhuru Primary   \n",
       "4  2024-09-23  ENUMERATOR #0  Ngorongoro            5  Mbuyuni Primary   \n",
       "\n",
       "   school_id  child_id      student_name  age  gender  student_grade  \\\n",
       "0        505       1.0  STUDENT | TQP CU    6    MALE              2   \n",
       "1        505       2.0  STUDENT | QAY VT    7    Male              2   \n",
       "2        505       3.0  STUDENT | AKI DG    7  female              2   \n",
       "3       4088       4.0  STUDENT | PPE ZC    8    Male              2   \n",
       "4        505       5.0  STUDENT | VLQ EP    7  female              2   \n",
       "\n",
       "      school_meal_subsidy school_meal_subsidy_otherspec subsidy_start_date  \\\n",
       "0  FULLY SUBSIDISED MEALS                           NaN                NaN   \n",
       "1         Other (Specify)          Partially subsidised                NaN   \n",
       "2              NO SUBSIDY                           NaN                NaN   \n",
       "3         Other (Specify)          Partially subsidised                NaN   \n",
       "4              NO SUBSIDY                           NaN                NaN   \n",
       "\n",
       "   eg_math_score  eg_reading_score  survey_duration  \n",
       "0             80                83               37  \n",
       "1             57                80               42  \n",
       "2             58                64               45  \n",
       "3             56                79               53  \n",
       "4             54                59               36  "
      ]
     },
     "execution_count": 152,
     "metadata": {},
     "output_type": "execute_result"
    }
   ],
   "source": [
    "# Displaying the first few rows\n",
    "df_students.head()"
   ]
  },
  {
   "cell_type": "code",
   "execution_count": 153,
   "id": "bdb77d65",
   "metadata": {},
   "outputs": [
    {
     "data": {
      "text/html": [
       "<div>\n",
       "<style scoped>\n",
       "    .dataframe tbody tr th:only-of-type {\n",
       "        vertical-align: middle;\n",
       "    }\n",
       "\n",
       "    .dataframe tbody tr th {\n",
       "        vertical-align: top;\n",
       "    }\n",
       "\n",
       "    .dataframe thead th {\n",
       "        text-align: right;\n",
       "    }\n",
       "</style>\n",
       "<table border=\"1\" class=\"dataframe\">\n",
       "  <thead>\n",
       "    <tr style=\"text-align: right;\">\n",
       "      <th></th>\n",
       "      <th>school_id</th>\n",
       "      <th>school_name</th>\n",
       "      <th>district</th>\n",
       "      <th>district_id</th>\n",
       "      <th>study_arm</th>\n",
       "    </tr>\n",
       "  </thead>\n",
       "  <tbody>\n",
       "    <tr>\n",
       "      <th>0</th>\n",
       "      <td>101</td>\n",
       "      <td>azimio primary</td>\n",
       "      <td>Arusha</td>\n",
       "      <td>1.0</td>\n",
       "      <td>Treatment</td>\n",
       "    </tr>\n",
       "    <tr>\n",
       "      <th>1</th>\n",
       "      <td>102</td>\n",
       "      <td>bahati primary</td>\n",
       "      <td>Arusha</td>\n",
       "      <td>1.0</td>\n",
       "      <td>Control</td>\n",
       "    </tr>\n",
       "    <tr>\n",
       "      <th>2</th>\n",
       "      <td>103</td>\n",
       "      <td>chekechea primary</td>\n",
       "      <td>Arusha</td>\n",
       "      <td>1.0</td>\n",
       "      <td>Treatment</td>\n",
       "    </tr>\n",
       "    <tr>\n",
       "      <th>3</th>\n",
       "      <td>104</td>\n",
       "      <td>furaha primary</td>\n",
       "      <td>Arusha</td>\n",
       "      <td>1.0</td>\n",
       "      <td>Control</td>\n",
       "    </tr>\n",
       "    <tr>\n",
       "      <th>4</th>\n",
       "      <td>105</td>\n",
       "      <td>kazi primary</td>\n",
       "      <td>Arusha</td>\n",
       "      <td>1.0</td>\n",
       "      <td>Control</td>\n",
       "    </tr>\n",
       "  </tbody>\n",
       "</table>\n",
       "</div>"
      ],
      "text/plain": [
       "   school_id        school_name district  district_id  study_arm\n",
       "0        101     azimio primary   Arusha          1.0  Treatment\n",
       "1        102     bahati primary   Arusha          1.0    Control\n",
       "2        103  chekechea primary   Arusha          1.0  Treatment\n",
       "3        104     furaha primary   Arusha          1.0    Control\n",
       "4        105       kazi primary   Arusha          1.0    Control"
      ]
     },
     "execution_count": 153,
     "metadata": {},
     "output_type": "execute_result"
    }
   ],
   "source": [
    "# Displaying the first few rows\n",
    "df_schools.head()"
   ]
  },
  {
   "cell_type": "code",
   "execution_count": 154,
   "id": "4ac65c2d-7c38-4e4d-9046-fb9a177a2fa4",
   "metadata": {},
   "outputs": [
    {
     "name": "stdout",
     "output_type": "stream",
     "text": [
      "1. Basic Dataset Information:\n",
      "Number of rows: 300\n",
      "Number of columns: 17\n"
     ]
    }
   ],
   "source": [
    "# Basic Data Quality Checks.\n",
    "print('1. Basic Dataset Information:')\n",
    "print('Number of rows:', len(df_students))\n",
    "print('Number of columns:', len(df_students.columns))"
   ]
  },
  {
   "cell_type": "code",
   "execution_count": 155,
   "id": "265b5665-c810-4e27-b957-3db7f999c030",
   "metadata": {},
   "outputs": [
    {
     "name": "stdout",
     "output_type": "stream",
     "text": [
      "Index(['survey_date', 'enumerator_id', 'district', 'district_id',\n",
      "       'school_name', 'school_id', 'child_id', 'student_name', 'age', 'gender',\n",
      "       'student_grade', 'school_meal_subsidy', 'school_meal_subsidy_otherspec',\n",
      "       'subsidy_start_date', 'eg_math_score', 'eg_reading_score',\n",
      "       'survey_duration'],\n",
      "      dtype='object')\n"
     ]
    }
   ],
   "source": [
    "# Get Column names\n",
    "print(df_students.columns)"
   ]
  },
  {
   "cell_type": "markdown",
   "id": "ff30dce8",
   "metadata": {},
   "source": [
    "From the values in the gender column, there appears to be gender inconsistent formatting issues\n",
    "This is a major data quality issue as;\n",
    " 1. It can lead to inaccuracies in data analysis and interpretation. It makes it difficult to accurately count or categorize respondents based on gender.\n",
    " 2. Potential for Bias: If these inconsistencies are not addressed, they can introduce bias into analyses where gender is a significant factor, such as in stratified sampling or subgroup analyses.\n",
    " 3. Analytical Challenges: When performing analyses (e.g., calculating means, running regression models), inconsistent values can lead to incorrect aggregations. For example, treating 'MALE' and 'male' as different categories will skew results.\n",
    " 4. Impact on Report and Insights: In reports, gender distributions or insights derived from the data may be misleading if these inconsistencies are not corrected. This can lead to erroneous conclusions and potentially impact decision-making.\n",
    "                                      Recommendations\n",
    "1. Standardization: Convert all gender entries to a standardized format (e.g., all lowercase or all uppercase) and define a consistent naming convention (e.g., 'male' and 'female').\n",
    "\n",
    "2. Data Validation: Implement validation rules during data collection to restrict entries to predefined categories. This can include using dropdowns or radio buttons rather than free text entry.Restric entrie in the CAPI software. "
   ]
  },
  {
   "cell_type": "code",
   "execution_count": 160,
   "id": "d8c59760-95eb-4a2e-84b8-63a9251c4a27",
   "metadata": {},
   "outputs": [
    {
     "name": "stdout",
     "output_type": "stream",
     "text": [
      "['Ngorongoro' 'Monduli']\n"
     ]
    }
   ],
   "source": [
    "print(df_students['district'].unique())\n",
    " \n",
    "# Our survey covers five districts. As for the two days covered, we can assume only two districts have been covered"
   ]
  },
  {
   "cell_type": "code",
   "execution_count": 161,
   "id": "7eb2fe44-4615-4861-bff3-abb18adcccce",
   "metadata": {},
   "outputs": [
    {
     "name": "stdout",
     "output_type": "stream",
     "text": [
      "survey_date                        0\n",
      "enumerator_id                      0\n",
      "district                           0\n",
      "district_id                        0\n",
      "school_name                        0\n",
      "school_id                          0\n",
      "child_id                          18\n",
      "student_name                       0\n",
      "age                                0\n",
      "gender                             0\n",
      "student_grade                      0\n",
      "school_meal_subsidy                0\n",
      "school_meal_subsidy_otherspec    280\n",
      "subsidy_start_date               209\n",
      "eg_math_score                      0\n",
      "eg_reading_score                   0\n",
      "survey_duration                    0\n",
      "gender_column                      0\n",
      "dtype: int64\n"
     ]
    }
   ],
   "source": [
    "# Checking for missing values in columns\n",
    "print(df_students.isnull().sum())"
   ]
  },
  {
   "cell_type": "markdown",
   "id": "13531b10",
   "metadata": {},
   "source": [
    "Missing values in the child_id column can lead to \n",
    "1. Identification and Tracking challenges- Child IDs are crucial for identifying individual respondents. Missing IDs can make it impossible to track responses back to specific individuals. Also inability to Merge Datasets: If you need to merge data from different sources (e.g., multiple surveys or administrative data), missing IDs can hinder this process, leading to incomplete datasets.\n",
    "\n",
    "2. Data Integrity & Reliability - Increased Risk of Duplication: Without unique identifiers, there's a higher chance of duplicating entries if individuals are re-surveyed or if their data is collected from different sources.\n",
    "Potential Bias: If missing IDs are not random and relate to specific groups (e.g., socioeconomic status, demographic factors), this could introduce bias in your findings and affect the overall representativeness of your sample.\n",
    "\n",
    "3. Limitations in Analysis: Missing data can complicate analyses, especially when conducting subgroup analyses or calculating statistics based on specific child populations. This can lead to incomplete or skewed results."
   ]
  },
  {
   "cell_type": "code",
   "execution_count": 162,
   "id": "311c8df3-4594-44e1-a07d-a53895046b58",
   "metadata": {},
   "outputs": [
    {
     "data": {
      "text/plain": [
       "(6, 'to', 45)"
      ]
     },
     "execution_count": 162,
     "metadata": {},
     "output_type": "execute_result"
    }
   ],
   "source": [
    "# Checking age range\n",
    "df_students['age'].min(), 'to', df_students['age'].max()"
   ]
  },
  {
   "cell_type": "code",
   "execution_count": 163,
   "id": "0e1b3bc5",
   "metadata": {},
   "outputs": [
    {
     "name": "stderr",
     "output_type": "stream",
     "text": [
      "c:\\Users\\Emmanuel\\anaconda3\\envs\\Data_science\\Lib\\site-packages\\seaborn\\_oldcore.py:1119: FutureWarning: use_inf_as_na option is deprecated and will be removed in a future version. Convert inf values to NaN before operating instead.\n",
      "  with pd.option_context('mode.use_inf_as_na', True):\n"
     ]
    },
    {
     "data": {
      "image/png": "[encoded data removed]",
      "text/plain": [
       "<Figure size 640x480 with 1 Axes>"
      ]
     },
     "metadata": {},
     "output_type": "display_data"
    }
   ],
   "source": [
    "# An age of 45 for grade 2-3 students seems erroneous.\n",
    "# Plot age distribution\n",
    "sns.histplot(data=df_students, x='age')\n",
    "plt.title('Age Distribution')\n",
    "plt.show()"
   ]
  },
  {
   "cell_type": "markdown",
   "id": "1adc986e",
   "metadata": {},
   "source": [
    "- Age distribution shows suspicious outliers (45 years old in student data).\n",
    "Anomalous values like these can skew calculations, especially in a smaller dataset, by distorting means, medians, and other statistical measures.\n",
    "Erroneous data points can introduce bias in models, especially if age is used as a predictor variable in regressions or other analyses. Misleading age profiles could affect the generalizability of the results.\n",
    "Reporting an inflated average age or including outliers in age distributions could misinform stakeholders, especially if this impacts programmatic decisions for interventions targeting young students.\n",
    "\n",
    "Best Practices to address such include\n",
    "1.  Use data validation rules in the CAPI software to restrict age entries to a realistic range for the target population, preventing future data entry errors.\n",
    "2. Identify and remove or correct unrealistic age values. For instance, you could set a reasonable range for age (e.g., 5–12 years) and flag any values outside this range for further review."
   ]
  },
  {
   "cell_type": "code",
   "execution_count": 164,
   "id": "e71c481d",
   "metadata": {},
   "outputs": [
    {
     "name": "stdout",
     "output_type": "stream",
     "text": [
      "Average survey duration: 43.95 minutes\n",
      "Surveys under 20 minutes: 2\n",
      "Surveys over 60 minutes: 0\n"
     ]
    }
   ],
   "source": [
    "# Checking Key Statistics \n",
    "# Survey Duration\n",
    "print('Average survey duration:', round(df_students['survey_duration'].mean(), 2), 'minutes')\n",
    "print('Surveys under 20 minutes:', len(df_students[df_students['survey_duration'] < 20]))\n",
    "print('Surveys over 60 minutes:', len(df_students[df_students['survey_duration'] > 60]))"
   ]
  },
  {
   "cell_type": "markdown",
   "id": "143eeed5",
   "metadata": {},
   "source": [
    "- From the survey duration statistics generated above, two surveys lasted two minutes. For this, if these responses show clear signs of rushing (like missing data or minimal answers), we might consider flagging them as outliers. This would allow for testing analyses with and without these responses to assess their impact on overall results.However, the fact that most respondents completed the survey between 20 and 60 minutes across both days suggests consistency in survey completion time. This stability can be a positive indicator of data collection quality, especially if the survey setup, respondent demographics, or content complexity remained unchanged."
   ]
  },
  {
   "cell_type": "code",
   "execution_count": 165,
   "id": "0673190c-1cc9-406a-b30d-209acb7ec38a",
   "metadata": {},
   "outputs": [
    {
     "data": {
      "text/html": [
       "<div>\n",
       "<style scoped>\n",
       "    .dataframe tbody tr th:only-of-type {\n",
       "        vertical-align: middle;\n",
       "    }\n",
       "\n",
       "    .dataframe tbody tr th {\n",
       "        vertical-align: top;\n",
       "    }\n",
       "\n",
       "    .dataframe thead th {\n",
       "        text-align: right;\n",
       "    }\n",
       "</style>\n",
       "<table border=\"1\" class=\"dataframe\">\n",
       "  <thead>\n",
       "    <tr style=\"text-align: right;\">\n",
       "      <th></th>\n",
       "      <th>school_id</th>\n",
       "      <th>school_name</th>\n",
       "      <th>district</th>\n",
       "      <th>district_id</th>\n",
       "      <th>study_arm</th>\n",
       "    </tr>\n",
       "  </thead>\n",
       "  <tbody>\n",
       "    <tr>\n",
       "      <th>0</th>\n",
       "      <td>101</td>\n",
       "      <td>azimio primary</td>\n",
       "      <td>Arusha</td>\n",
       "      <td>1.0</td>\n",
       "      <td>Treatment</td>\n",
       "    </tr>\n",
       "    <tr>\n",
       "      <th>1</th>\n",
       "      <td>102</td>\n",
       "      <td>bahati primary</td>\n",
       "      <td>Arusha</td>\n",
       "      <td>1.0</td>\n",
       "      <td>Control</td>\n",
       "    </tr>\n",
       "    <tr>\n",
       "      <th>2</th>\n",
       "      <td>103</td>\n",
       "      <td>chekechea primary</td>\n",
       "      <td>Arusha</td>\n",
       "      <td>1.0</td>\n",
       "      <td>Treatment</td>\n",
       "    </tr>\n",
       "    <tr>\n",
       "      <th>3</th>\n",
       "      <td>104</td>\n",
       "      <td>furaha primary</td>\n",
       "      <td>Arusha</td>\n",
       "      <td>1.0</td>\n",
       "      <td>Control</td>\n",
       "    </tr>\n",
       "    <tr>\n",
       "      <th>4</th>\n",
       "      <td>105</td>\n",
       "      <td>kazi primary</td>\n",
       "      <td>Arusha</td>\n",
       "      <td>1.0</td>\n",
       "      <td>Control</td>\n",
       "    </tr>\n",
       "  </tbody>\n",
       "</table>\n",
       "</div>"
      ],
      "text/plain": [
       "   school_id        school_name district  district_id  study_arm\n",
       "0        101     azimio primary   Arusha          1.0  Treatment\n",
       "1        102     bahati primary   Arusha          1.0    Control\n",
       "2        103  chekechea primary   Arusha          1.0  Treatment\n",
       "3        104     furaha primary   Arusha          1.0    Control\n",
       "4        105       kazi primary   Arusha          1.0    Control"
      ]
     },
     "execution_count": 165,
     "metadata": {},
     "output_type": "execute_result"
    }
   ],
   "source": [
    "# Displaying the first few rows of the schools dataset\n",
    "df_schools.head()"
   ]
  },
  {
   "cell_type": "code",
   "execution_count": 166,
   "id": "daf0260a",
   "metadata": {},
   "outputs": [
    {
     "name": "stdout",
     "output_type": "stream",
     "text": [
      "school_id      0\n",
      "school_name    0\n",
      "district       5\n",
      "district_id    6\n",
      "study_arm      0\n",
      "dtype: int64\n"
     ]
    }
   ],
   "source": [
    "# Checking for missing values in df_schools dataset\n",
    "print(df_schools.isnull().sum())"
   ]
  },
  {
   "cell_type": "markdown",
   "id": "a9157413",
   "metadata": {},
   "source": [
    "The missing values in district and district_id in your school dataset could impact survey analysis in the following ways\n",
    "1. Grouping and Comparative Analysis: Inability to Group by District - This can hinder  ability to group or compare data by district, which is often essential for understanding regional variations, resource allocation, or intervention effects.\n",
    "Distorted Group Statistics- If a district has missing values, the statistics calculated for each district (e.g., average scores or enrollment figures) will be incomplete or potentially biased, which may lead to misleading insights when comparing districts.\n",
    "\n",
    "2. Sampling and Representation: Sample Balance Issues - Missing district or district_id values can affect sample balance if certain districts end up underrepresented. This can reduce the validity of regional comparisons and limit the generalizability of findings across districts.\n",
    "\n",
    "3. Difficulty with Data Merging and Linking: Challenges in Merging Datasets:  for other datasets that need to be linked by district or district_id, these missing values will prevent successful merging for certain schools. This can result in data loss, where records for these schools are excluded from merged datasets, leading to incomplete analyses.\n",
    "\n",
    "\n",
    "Best Recommendation for this \n",
    "1. Investigate the Source of Missing Data: If possible, understand why certain schools lack district data, as this could indicate a pattern (e.g., data entry errors) that might be correctable.\n",
    "\n",
    "2. Conduct Sensitivity Analysis: Run your analysis with and without these schools to see if their inclusion affects results, especially if district comparisons are central to your findings."
   ]
  },
  {
   "cell_type": "markdown",
   "id": "ad72fa55",
   "metadata": {},
   "source": [
    "## QUESTION TWO"
   ]
  },
  {
   "cell_type": "markdown",
   "id": "997202a5",
   "metadata": {},
   "source": [
    "# PRELIMINARY ANALYSIS ON ATTRITION RATES AND SAMPLE BALANCE"
   ]
  },
  {
   "cell_type": "markdown",
   "id": "506f04d9",
   "metadata": {},
   "source": [
    "Attrition rate, is a metric used to measure the rate at which participants (such as students, employees, or customers) leave a study, organization, or program over a specific period. In the context of our analysis looking at student attrition in a study or educational setting, the attrition rate can give insights into the retention of students in treatment and control groups.\n",
    "\n",
    "- Monitoring attrition rates is essential in survey and longitudinal studies because high or unbalanced attrition can undermine the validity of results and introduce bias. Here’s why calculating and managing attrition rate is crucial:\n",
    "\n",
    "- Assessing Data Completeness: Attrition rates give insight into how much data remains usable over time, particularly in studies that involve repeated measurements or long-term follow-ups. High attrition may lead to incomplete data, which can weaken the reliability of conclusions.\n",
    "\n",
    "- Identifying Potential Bias: If certain types of participants (e.g., lower-scoring or high-risk individuals) are more likely to leave the study, this can skew results, as the remaining sample may no longer be representative of the population. Calculating attrition rates by group (e.g., treatment vs. control) helps detect such imbalances.\n",
    "\n",
    "- Maintaining Study Validity: For studies where results depend on comparing groups over time, like randomized controlled trials, a balanced and low attrition rate across groups is vital to avoid invalidating findings due to unrepresentative remaining samples."
   ]
  },
  {
   "cell_type": "markdown",
   "id": "22488ef3",
   "metadata": {},
   "source": [
    "Sample balance refers to the distribution and representativeness of key characteristics across different groups within a study sample. It is crucial in ensuring that comparison groups, such as treatment and control groups, are similar in relevant aspects except for the intervention being studied. Calculating sample balance is essential for achieving credible, unbiased results and for validating the fairness of comparisons. Here’s a breakdown of its purpose and how it’s assessed:\n",
    "\n",
    "- Reduce Bias: Balanced samples reduce selection bias, which can otherwise lead to misleading conclusions. For example, if a treatment group has more students with higher baseline academic performance than the control group, any observed improvements might be due to this initial difference rather than the treatment effect.\n",
    "\n",
    "- Enhance Comparability: A well-balanced sample ensures that differences in outcomes can be more reliably attributed to the intervention rather than pre-existing differences. This is particularly important in randomized controlled trials (RCTs) and observational studies.\n",
    "\n",
    "- Support Generalizability: Balanced samples increase the likelihood that findings are applicable beyond the study group, making results more broadly useful for informing policies or scaling interventions."
   ]
  },
  {
   "cell_type": "code",
   "execution_count": 167,
   "id": "cd72e305",
   "metadata": {},
   "outputs": [
    {
     "name": "stdout",
     "output_type": "stream",
     "text": [
      "Index(['survey_date', 'enumerator_id', 'district_x', 'district_id_x',\n",
      "       'school_name_x', 'school_id', 'child_id', 'student_name', 'age',\n",
      "       'gender', 'student_grade', 'school_meal_subsidy',\n",
      "       'school_meal_subsidy_otherspec', 'subsidy_start_date', 'eg_math_score',\n",
      "       'eg_reading_score', 'survey_duration', 'gender_column', 'school_name_y',\n",
      "       'district_y', 'district_id_y', 'study_arm'],\n",
      "      dtype='object')\n"
     ]
    }
   ],
   "source": [
    "# Checking for columns in schools dataset\n",
    "print(df_combined.columns)"
   ]
  },
  {
   "cell_type": "code",
   "execution_count": 168,
   "id": "e349d245-5aa8-4dbd-9b8e-dd73458a8508",
   "metadata": {},
   "outputs": [],
   "source": [
    "# Merge the two datasets on the common column\n",
    "df_combined = pd.merge(df_students, df_schools, on='school_id')"
   ]
  },
  {
   "cell_type": "code",
   "execution_count": 169,
   "id": "71e5c481-f2d2-4e07-b133-893577b8a170",
   "metadata": {},
   "outputs": [
    {
     "data": {
      "text/html": [
       "<div>\n",
       "<style scoped>\n",
       "    .dataframe tbody tr th:only-of-type {\n",
       "        vertical-align: middle;\n",
       "    }\n",
       "\n",
       "    .dataframe tbody tr th {\n",
       "        vertical-align: top;\n",
       "    }\n",
       "\n",
       "    .dataframe thead th {\n",
       "        text-align: right;\n",
       "    }\n",
       "</style>\n",
       "<table border=\"1\" class=\"dataframe\">\n",
       "  <thead>\n",
       "    <tr style=\"text-align: right;\">\n",
       "      <th></th>\n",
       "      <th>survey_date</th>\n",
       "      <th>enumerator_id</th>\n",
       "      <th>district_x</th>\n",
       "      <th>district_id_x</th>\n",
       "      <th>school_name_x</th>\n",
       "      <th>school_id</th>\n",
       "      <th>child_id</th>\n",
       "      <th>student_name</th>\n",
       "      <th>age</th>\n",
       "      <th>gender</th>\n",
       "      <th>...</th>\n",
       "      <th>school_meal_subsidy_otherspec</th>\n",
       "      <th>subsidy_start_date</th>\n",
       "      <th>eg_math_score</th>\n",
       "      <th>eg_reading_score</th>\n",
       "      <th>survey_duration</th>\n",
       "      <th>gender_column</th>\n",
       "      <th>school_name_y</th>\n",
       "      <th>district_y</th>\n",
       "      <th>district_id_y</th>\n",
       "      <th>study_arm</th>\n",
       "    </tr>\n",
       "  </thead>\n",
       "  <tbody>\n",
       "    <tr>\n",
       "      <th>0</th>\n",
       "      <td>2024-09-24</td>\n",
       "      <td>ENUMERATOR #0</td>\n",
       "      <td>Ngorongoro</td>\n",
       "      <td>5</td>\n",
       "      <td>Mbuyuni Primary</td>\n",
       "      <td>505</td>\n",
       "      <td>1.0</td>\n",
       "      <td>STUDENT | TQP CU</td>\n",
       "      <td>6</td>\n",
       "      <td>MALE</td>\n",
       "      <td>...</td>\n",
       "      <td>NaN</td>\n",
       "      <td>NaN</td>\n",
       "      <td>80</td>\n",
       "      <td>83</td>\n",
       "      <td>37</td>\n",
       "      <td>Male</td>\n",
       "      <td>mbuyuni primary</td>\n",
       "      <td>Ngorongoro</td>\n",
       "      <td>5.0</td>\n",
       "      <td>Treatment</td>\n",
       "    </tr>\n",
       "    <tr>\n",
       "      <th>1</th>\n",
       "      <td>2024-09-23</td>\n",
       "      <td>ENUMERATOR #0</td>\n",
       "      <td>Ngorongoro</td>\n",
       "      <td>5</td>\n",
       "      <td>Mbuyuni Primary</td>\n",
       "      <td>505</td>\n",
       "      <td>2.0</td>\n",
       "      <td>STUDENT | QAY VT</td>\n",
       "      <td>7</td>\n",
       "      <td>Male</td>\n",
       "      <td>...</td>\n",
       "      <td>Partially subsidised</td>\n",
       "      <td>NaN</td>\n",
       "      <td>57</td>\n",
       "      <td>80</td>\n",
       "      <td>42</td>\n",
       "      <td>Male</td>\n",
       "      <td>mbuyuni primary</td>\n",
       "      <td>Ngorongoro</td>\n",
       "      <td>5.0</td>\n",
       "      <td>Treatment</td>\n",
       "    </tr>\n",
       "    <tr>\n",
       "      <th>2</th>\n",
       "      <td>2024-09-23</td>\n",
       "      <td>ENUMERATOR #0</td>\n",
       "      <td>Ngorongoro</td>\n",
       "      <td>5</td>\n",
       "      <td>Mbuyuni Primary</td>\n",
       "      <td>505</td>\n",
       "      <td>3.0</td>\n",
       "      <td>STUDENT | AKI DG</td>\n",
       "      <td>7</td>\n",
       "      <td>female</td>\n",
       "      <td>...</td>\n",
       "      <td>NaN</td>\n",
       "      <td>NaN</td>\n",
       "      <td>58</td>\n",
       "      <td>64</td>\n",
       "      <td>45</td>\n",
       "      <td>Female</td>\n",
       "      <td>mbuyuni primary</td>\n",
       "      <td>Ngorongoro</td>\n",
       "      <td>5.0</td>\n",
       "      <td>Treatment</td>\n",
       "    </tr>\n",
       "    <tr>\n",
       "      <th>3</th>\n",
       "      <td>2024-09-23</td>\n",
       "      <td>ENUMERATOR #0</td>\n",
       "      <td>Ngorongoro</td>\n",
       "      <td>5</td>\n",
       "      <td>Mbuyuni Primary</td>\n",
       "      <td>505</td>\n",
       "      <td>5.0</td>\n",
       "      <td>STUDENT | VLQ EP</td>\n",
       "      <td>7</td>\n",
       "      <td>female</td>\n",
       "      <td>...</td>\n",
       "      <td>NaN</td>\n",
       "      <td>NaN</td>\n",
       "      <td>54</td>\n",
       "      <td>59</td>\n",
       "      <td>36</td>\n",
       "      <td>Female</td>\n",
       "      <td>mbuyuni primary</td>\n",
       "      <td>Ngorongoro</td>\n",
       "      <td>5.0</td>\n",
       "      <td>Treatment</td>\n",
       "    </tr>\n",
       "    <tr>\n",
       "      <th>4</th>\n",
       "      <td>2024-09-24</td>\n",
       "      <td>ENUMERATOR #0</td>\n",
       "      <td>Ngorongoro</td>\n",
       "      <td>5</td>\n",
       "      <td>Mbuyuni Primary</td>\n",
       "      <td>505</td>\n",
       "      <td>7.0</td>\n",
       "      <td>STUDENT | EML OA</td>\n",
       "      <td>7</td>\n",
       "      <td>female</td>\n",
       "      <td>...</td>\n",
       "      <td>NaN</td>\n",
       "      <td>NaN</td>\n",
       "      <td>69</td>\n",
       "      <td>49</td>\n",
       "      <td>44</td>\n",
       "      <td>Female</td>\n",
       "      <td>mbuyuni primary</td>\n",
       "      <td>Ngorongoro</td>\n",
       "      <td>5.0</td>\n",
       "      <td>Treatment</td>\n",
       "    </tr>\n",
       "  </tbody>\n",
       "</table>\n",
       "<p>5 rows × 22 columns</p>\n",
       "</div>"
      ],
      "text/plain": [
       "  survey_date  enumerator_id  district_x  district_id_x    school_name_x  \\\n",
       "0  2024-09-24  ENUMERATOR #0  Ngorongoro              5  Mbuyuni Primary   \n",
       "1  2024-09-23  ENUMERATOR #0  Ngorongoro              5  Mbuyuni Primary   \n",
       "2  2024-09-23  ENUMERATOR #0  Ngorongoro              5  Mbuyuni Primary   \n",
       "3  2024-09-23  ENUMERATOR #0  Ngorongoro              5  Mbuyuni Primary   \n",
       "4  2024-09-24  ENUMERATOR #0  Ngorongoro              5  Mbuyuni Primary   \n",
       "\n",
       "   school_id  child_id      student_name  age  gender  ...  \\\n",
       "0        505       1.0  STUDENT | TQP CU    6    MALE  ...   \n",
       "1        505       2.0  STUDENT | QAY VT    7    Male  ...   \n",
       "2        505       3.0  STUDENT | AKI DG    7  female  ...   \n",
       "3        505       5.0  STUDENT | VLQ EP    7  female  ...   \n",
       "4        505       7.0  STUDENT | EML OA    7  female  ...   \n",
       "\n",
       "   school_meal_subsidy_otherspec subsidy_start_date eg_math_score  \\\n",
       "0                            NaN                NaN            80   \n",
       "1           Partially subsidised                NaN            57   \n",
       "2                            NaN                NaN            58   \n",
       "3                            NaN                NaN            54   \n",
       "4                            NaN                NaN            69   \n",
       "\n",
       "  eg_reading_score  survey_duration  gender_column    school_name_y  \\\n",
       "0               83               37           Male  mbuyuni primary   \n",
       "1               80               42           Male  mbuyuni primary   \n",
       "2               64               45         Female  mbuyuni primary   \n",
       "3               59               36         Female  mbuyuni primary   \n",
       "4               49               44         Female  mbuyuni primary   \n",
       "\n",
       "   district_y district_id_y  study_arm  \n",
       "0  Ngorongoro           5.0  Treatment  \n",
       "1  Ngorongoro           5.0  Treatment  \n",
       "2  Ngorongoro           5.0  Treatment  \n",
       "3  Ngorongoro           5.0  Treatment  \n",
       "4  Ngorongoro           5.0  Treatment  \n",
       "\n",
       "[5 rows x 22 columns]"
      ]
     },
     "execution_count": 169,
     "metadata": {},
     "output_type": "execute_result"
    }
   ],
   "source": [
    "# Printing the first few rows of our new DataFrame\n",
    "df_combined.head()"
   ]
  },
  {
   "cell_type": "code",
   "execution_count": 170,
   "id": "28fcc690-8dfd-4019-a491-fabc78179840",
   "metadata": {},
   "outputs": [
    {
     "name": "stdout",
     "output_type": "stream",
     "text": [
      "Index(['survey_date', 'enumerator_id', 'district_x', 'district_id_x',\n",
      "       'school_name_x', 'school_id', 'child_id', 'student_name', 'age',\n",
      "       'gender', 'student_grade', 'school_meal_subsidy',\n",
      "       'school_meal_subsidy_otherspec', 'subsidy_start_date', 'eg_math_score',\n",
      "       'eg_reading_score', 'survey_duration', 'gender_column', 'school_name_y',\n",
      "       'district_y', 'district_id_y', 'study_arm'],\n",
      "      dtype='object')\n"
     ]
    }
   ],
   "source": [
    "# Columns in our new DataFrame\n",
    "print(df_combined.columns)"
   ]
  },
  {
   "cell_type": "code",
   "execution_count": 171,
   "id": "fd97190c-f7c3-495f-87cd-bfd9e85c29cc",
   "metadata": {},
   "outputs": [
    {
     "name": "stdout",
     "output_type": "stream",
     "text": [
      "   study_arm  mean_age  mean_math_score  mean_english_score\n",
      "0    Control  9.171429        57.828571           67.942857\n",
      "1  Treatment  7.983425        59.773481           68.812155\n"
     ]
    }
   ],
   "source": [
    "# Calculate mean age, math, and english scores for each group\n",
    "group_means = df_combined.groupby('study_arm').agg(\n",
    "    mean_age=('age', 'mean'),\n",
    "    mean_math_score=('eg_math_score', 'mean'),\n",
    "    mean_english_score=('eg_reading_score', 'mean')\n",
    ").reset_index()\n",
    "print(group_means)"
   ]
  },
  {
   "cell_type": "code",
   "execution_count": 184,
   "id": "85ba9434",
   "metadata": {},
   "outputs": [],
   "source": [
    "# Create a mapping dictionary for gender standardization\n",
    "gender_mapping = {\n",
    "    'male': 'Male',\n",
    "    'female': 'Female',\n",
    "    'f emale': 'Female',\n",
    "    'm male': 'Male',\n",
    "     'MALE':'Male',\n",
    "     'FEMALE':'Female',\n",
    "     'F emale':'Female',\n",
    "     'M male': 'Male'\n",
    "    # Add any other variations you might find\n",
    "}\n",
    "\n",
    "# Replace values in the DataFrame using the mapping\n",
    "df_combined['gender'] = df_combined['gender'].replace(gender_mapping)"
   ]
  },
  {
   "cell_type": "code",
   "execution_count": 186,
   "id": "a76ba776",
   "metadata": {},
   "outputs": [
    {
     "name": "stdout",
     "output_type": "stream",
     "text": [
      "['Male' 'Female']\n"
     ]
    }
   ],
   "source": [
    "# Check unique values again after standardization\n",
    "gender= df_combined['gender'].unique()\n",
    "print(gender)"
   ]
  },
  {
   "cell_type": "code",
   "execution_count": 196,
   "id": "f6e86053",
   "metadata": {},
   "outputs": [
    {
     "name": "stdout",
     "output_type": "stream",
     "text": [
      "gender\n",
      "Female    0.583333\n",
      "Male      0.416667\n",
      "Name: proportion, dtype: float64\n"
     ]
    }
   ],
   "source": [
    "gender_ratio = df_combined['gender'].value_counts(normalize=True)\n",
    "print(gender_ratio)"
   ]
  },
  {
   "cell_type": "markdown",
   "id": "9a85a451",
   "metadata": {},
   "source": [
    "From the above generated statistics, \n",
    "- The means of age are close, suggesting that any observed differences in outcomes (math and english scores) are less likely due to age.\n",
    "\n",
    "- The average math and english scores indicate the academic performance level of each group at baseline or during the study period. The close similar means suggest the groups started at a comparable academic level, supporting the validity of comparisons.\n",
    "\n",
    "- Approximately 58.33% of the entries in your dataset are labeled as Female. This is a majority representation, suggesting that there are more females than males in your dataset.Conversely, 41.67% of the entries are labeled as Male. This indicates a slightly lower representation of males compared to females."
   ]
  },
  {
   "cell_type": "markdown",
   "id": "d72916f8",
   "metadata": {},
   "source": [
    "# Implication of the results"
   ]
  },
  {
   "cell_type": "markdown",
   "id": "d203d62f",
   "metadata": {},
   "source": [
    "- Sample Composition:\n",
    "\n",
    "The data shows that the sample has a higher proportion of females. Understanding the gender distribution is crucial for assessing whether your sample is representative of the broader population you are studying.\n",
    "\n",
    "- Potential Bias:\n",
    "\n",
    "If your analysis or interventions are sensitive to gender differences, a significant imbalance could introduce bias. For example, if the intervention or survey results differ significantly by gender, this could skew your findings.\n",
    "Further Analysis:\n",
    "\n",
    "You might want to consider conducting additional analyses to explore whether there are any differences in outcomes (e.g., test scores) based on gender. This could help determine if the treatment or control conditions have differential effects by gender.\n",
    "\n",
    "- Contextual Relevance:\n",
    "\n",
    "Since this is an educational study, it may also be relevant to understand the reasons behind the gender distribution. Are there more female students in the schools being studied? Are there external factors contributing to this imbalance?"
   ]
  },
  {
   "cell_type": "code",
   "execution_count": 191,
   "id": "e0a38057-1af4-4ee9-a2c0-ed40b59e18b9",
   "metadata": {},
   "outputs": [
    {
     "name": "stdout",
     "output_type": "stream",
     "text": [
      "   study_arm  sample_size\n",
      "0    Control           35\n",
      "1  Treatment          181\n"
     ]
    }
   ],
   "source": [
    "# 4. Calculate sample sizes for each group\n",
    "sample_sizes = df_combined.groupby('study_arm').size().reset_index(name='sample_size')\n",
    "print(sample_sizes)"
   ]
  },
  {
   "cell_type": "markdown",
   "id": "9e523c83",
   "metadata": {},
   "source": [
    "# Interpretation of Sample Sizes"
   ]
  },
  {
   "cell_type": "markdown",
   "id": "357aa4d6",
   "metadata": {},
   "source": [
    "Control Group:\n",
    "\n",
    "- Sample Size = 35: This means there are 35 participants in the Control group. This is a relatively small sample size and may limit the statistical power of any analyses conducted on this group."
   ]
  },
  {
   "cell_type": "markdown",
   "id": "abe98616",
   "metadata": {},
   "source": [
    "Treatment Group:\n",
    "\n",
    "- Sample Size = 181: The Treatment group has 181 participants, which is a much larger sample. This larger size can provide more robust statistical power for detecting effects and trends."
   ]
  },
  {
   "cell_type": "markdown",
   "id": "5a7a5825",
   "metadata": {},
   "source": [
    "# Implications of Sample Size Differences"
   ]
  },
  {
   "cell_type": "markdown",
   "id": "8df47f82",
   "metadata": {},
   "source": [
    "Statistical Power:\n",
    "\n",
    "The larger sample size in the Treatment group may increase the ability to detect significant effects or differences compared to the Control group. Small sample sizes can lead to Type II errors, where true effects are missed."
   ]
  },
  {
   "cell_type": "markdown",
   "id": "194cef47",
   "metadata": {},
   "source": [
    "Generalizability:\n",
    "\n",
    "The findings from the Control group may be less generalizable due to the smaller sample size. This could be particularly important if the Control group shows different characteristics or responses compared to the Treatment group."
   ]
  },
  {
   "cell_type": "markdown",
   "id": "4f7977c9",
   "metadata": {},
   "source": [
    "Balance and Comparison:\n",
    "\n",
    "The significant disparity in sample sizes (35 vs. 181) raises concerns about balance. It may lead to biased estimates of treatment effects, as differences in characteristics between the groups could be more pronounced due to the unequal sizes."
   ]
  },
  {
   "cell_type": "markdown",
   "id": "63da1139",
   "metadata": {},
   "source": [
    "Next Steps\n",
    "\n",
    "Analysis:\n",
    "\n",
    "You might want to conduct analyses to compare characteristics (like age, gender, scores) between the two groups to understand if the groups are comparable despite the size difference.\n",
    "\n",
    "Statistical Tests:\n",
    "\n",
    "Use appropriate statistical tests that account for unequal sample sizes, such as t-tests or ANOVA, while interpreting the results cautiously.\n",
    "\n",
    "Visualization:\n",
    "\n",
    "Consider visualizing the sample sizes with a bar chart to clearly communicate the differences in participant numbers between the two groups."
   ]
  }
 ],
 "metadata": {
  "kernelspec": {
   "display_name": "Data_science",
   "language": "python",
   "name": "python3"
  },
  "language_info": {
   "codemirror_mode": {
    "name": "ipython",
    "version": 3
   },
   "file_extension": ".py",
   "mimetype": "text/x-python",
   "name": "python",
   "nbconvert_exporter": "python",
   "pygments_lexer": "ipython3",
   "version": "3.11.7"
  }
 },
 "nbformat": 4,
 "nbformat_minor": 5
}
